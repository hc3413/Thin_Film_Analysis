{
 "cells": [
  {
   "cell_type": "code",
   "execution_count": 6,
   "metadata": {},
   "outputs": [
    {
     "ename": "ModuleNotFoundError",
     "evalue": "No module named 'scipy'",
     "output_type": "error",
     "traceback": [
      "\u001b[0;31m---------------------------------------------------------------------------\u001b[0m",
      "\u001b[0;31mModuleNotFoundError\u001b[0m                       Traceback (most recent call last)",
      "Cell \u001b[0;32mIn[6], line 6\u001b[0m\n\u001b[1;32m      1\u001b[0m \u001b[38;5;66;03m#source TFAvenv/bin/activate (launching and exiting the virtual environment containing the required modules, stored in the working directory)\u001b[39;00m\n\u001b[1;32m      2\u001b[0m \u001b[38;5;66;03m#TFAvenv/bin/python your_script.py - for running a script in the virtual environment\u001b[39;00m\n\u001b[1;32m      3\u001b[0m \u001b[38;5;66;03m#source deactivate\u001b[39;00m\n\u001b[1;32m      4\u001b[0m \n\u001b[1;32m      5\u001b[0m \u001b[38;5;66;03m#import all the libraries needed\u001b[39;00m\n\u001b[0;32m----> 6\u001b[0m \u001b[38;5;28;01mfrom\u001b[39;00m\u001b[38;5;250m \u001b[39m\u001b[38;5;21;01mimport_dep\u001b[39;00m\u001b[38;5;250m \u001b[39m\u001b[38;5;28;01mimport\u001b[39;00m \u001b[38;5;241m*\u001b[39m\n\u001b[1;32m      8\u001b[0m \u001b[38;5;66;03m# import my functions stored in the file 'functions' which can then be called with functions.function_name()\u001b[39;00m\n\u001b[1;32m      9\u001b[0m \u001b[38;5;28;01mimport\u001b[39;00m\u001b[38;5;250m \u001b[39m\u001b[38;5;21;01mTFA_functions\u001b[39;00m\n",
      "File \u001b[0;32m~/Desktop/Thin_Film_Analysis/import_dep.py:21\u001b[0m\n\u001b[1;32m     16\u001b[0m \u001b[38;5;28;01mfrom\u001b[39;00m\u001b[38;5;250m \u001b[39m\u001b[38;5;21;01mpptx\u001b[39;00m\u001b[38;5;21;01m.\u001b[39;00m\u001b[38;5;21;01moxml\u001b[39;00m\u001b[38;5;250m \u001b[39m\u001b[38;5;28;01mimport\u001b[39;00m parse_xml\n\u001b[1;32m     17\u001b[0m \u001b[38;5;28;01mimport\u001b[39;00m\u001b[38;5;250m \u001b[39m\u001b[38;5;21;01mmath\u001b[39;00m\n\u001b[0;32m---> 21\u001b[0m \u001b[38;5;28;01mimport\u001b[39;00m\u001b[38;5;250m \u001b[39m\u001b[38;5;21;01mscipy\u001b[39;00m\n\u001b[1;32m     22\u001b[0m \u001b[38;5;28;01mfrom\u001b[39;00m\u001b[38;5;250m \u001b[39m\u001b[38;5;21;01mscipy\u001b[39;00m\u001b[38;5;21;01m.\u001b[39;00m\u001b[38;5;21;01moptimize\u001b[39;00m\u001b[38;5;250m \u001b[39m\u001b[38;5;28;01mimport\u001b[39;00m fsolve\n\u001b[1;32m     23\u001b[0m \u001b[38;5;28;01mfrom\u001b[39;00m\u001b[38;5;250m \u001b[39m\u001b[38;5;21;01mscipy\u001b[39;00m\u001b[38;5;21;01m.\u001b[39;00m\u001b[38;5;21;01mstats\u001b[39;00m\u001b[38;5;250m \u001b[39m\u001b[38;5;28;01mimport\u001b[39;00m linregress\n",
      "\u001b[0;31mModuleNotFoundError\u001b[0m: No module named 'scipy'"
     ]
    }
   ],
   "source": [
    "#source TFAvenv/bin/activate (launching and exiting the virtual environment containing the required modules, stored in the working directory)\n",
    "#TFAvenv/bin/python your_script.py - for running a script in the virtual environment\n",
    "#source deactivate\n",
    "\n",
    "#import all the libraries needed\n",
    "from import_dep import *\n",
    "\n",
    "# import my functions stored in the file 'functions' which can then be called with functions.function_name()\n",
    "import TFA_functions\n",
    "\n",
    "# Define the path to the root directory containing all the XRD data\n",
    "root_XRD = '/Users/horatiocox/Desktop/RUG Postdoc/Experiments/XRD'\n",
    "\n",
    "# The data is loaded from a folder, then the plots are returned to that same folder\n",
    "d_1 = XRD_RSM(root_XRD, folder_name = 'HC015')\n",
    "\n",
    "\n",
    "# Parameters\n",
    "plot_data = False # set to True to plot the data and export to path_out\n",
    "fig_format = 'png' # format of the figure to be saved\n",
    "\n",
    "powerpoint_data = False # set to True to export the data to a powerpoint presentation and export to path_out\n",
    "\n",
    "film_thickness = 1e-9 # Film thickness in meters\n",
    "\n"
   ]
  },
  {
   "cell_type": "code",
   "execution_count": 21,
   "metadata": {},
   "outputs": [],
   "source": [
    "if powerpoint_data == True:\n",
    "    # Create a PowerPoint presentation object\n",
    "    prs = Presentation()\n",
    "\n",
    "    # Define a function to add a slide with a title and image\n",
    "    def add_slide(prs, title, fig):\n",
    "        slide_layout = prs.slide_layouts[5]  # Use a blank slide layout\n",
    "        slide = prs.slides.add_slide(slide_layout)\n",
    "        \n",
    "        # Set background color with 40% transparency\n",
    "        background = slide.background\n",
    "        fill = background.fill\n",
    "        fill.solid()\n",
    "        fill.fore_color.rgb = RGBColor(200, 200, 200)\n",
    "\n",
    "        # Add title with custom font\n",
    "        title_shape = slide.shapes.title\n",
    "        title_shape.text = title\n",
    "        title_shape.text_frame.paragraphs[0].font.size = Pt(24)\n",
    "        title_shape.text_frame.paragraphs[0].font.bold = True\n",
    "        title_shape.text_frame.paragraphs[0].font.color.rgb = RGBColor(0, 0, 0)\n",
    "        title_shape.text_frame.paragraphs[0].font.name = 'Arial'\n",
    "        title_shape.text_frame.paragraphs[0].alignment = PP_ALIGN.CENTER\n",
    "\n",
    "        # Save the figure as an image\n",
    "        img_path = f\"{title}.png\"\n",
    "        fig.savefig(img_path, dpi=300, bbox_inches='tight', transparent=True)\n",
    "\n",
    "        \n",
    "         # Calculate the left position to center the image\n",
    "        slide_width = prs.slide_width\n",
    "        image_width = Inches(8)\n",
    "        left = (slide_width - image_width) / 2\n",
    "        top = Inches(2)  # Position the figure lower down by 2 inches\n",
    "        \n",
    "        # Add the image to the slide\n",
    "        pic = slide.shapes.add_picture(img_path, left, top, width=image_width)\n",
    "\n",
    "    # List of figures and their corresponding titles\n",
    "    figures = [\n",
    "        (fig0, \"Plot IV data to Check Linearity\"),\n",
    "        (fig1, \"R-squared Analysis to Check Linearity of I-V data\"),\n",
    "        (fig2, \"Resistivity Configuration Compararison\"),\n",
    "        (fig3, \"Resistivity vs Temperature\"),\n",
    "        (fig4, \"Magnetoresistance vs H\"),\n",
    "        (fig5, \"Magnetoresistance Vs T\"),\n",
    "        (fig6, \"Arhenius Plot\"),\n",
    "        (fig7, \"R-squared Analysis to Check Linearity of Resistivity I-V data\"),\n",
    "        (fig8, \"Hall resisitivity vs Temperature\"),\n",
    "        (fig9, \"Hall resisitivity vs Applied Field\"),\n",
    "        (fig10, \"Hall Coeff Vs T\"),\n",
    "        (fig11, \"Mobility vs T\"),\n",
    "        (fig12, \"ρ_xy vs ρ_xx\")\n",
    "    ]\n",
    "\n",
    "    # Add each figure to the PowerPoint presentation\n",
    "    for fig, title in figures:\n",
    "        add_slide(prs, title, fig)\n",
    "\n",
    "    # Save the PowerPoint presentation\n",
    "    prs.save(Path(path_out).joinpath(f'{plot_string}_figures.pptx'))"
   ]
  },
  {
   "cell_type": "code",
   "execution_count": null,
   "metadata": {},
   "outputs": [],
   "source": []
  },
  {
   "cell_type": "code",
   "execution_count": null,
   "metadata": {},
   "outputs": [],
   "source": []
  },
  {
   "cell_type": "code",
   "execution_count": null,
   "metadata": {},
   "outputs": [],
   "source": []
  }
 ],
 "metadata": {
  "kernelspec": {
   "display_name": "TFAvenv",
   "language": "python",
   "name": "python3"
  },
  "language_info": {
   "codemirror_mode": {
    "name": "ipython",
    "version": 3
   },
   "file_extension": ".py",
   "mimetype": "text/x-python",
   "name": "python",
   "nbconvert_exporter": "python",
   "pygments_lexer": "ipython3",
   "version": "3.12.2"
  }
 },
 "nbformat": 4,
 "nbformat_minor": 2
}
